{
 "cells": [
  {
   "cell_type": "code",
   "execution_count": 1,
   "id": "de1f0ac0",
   "metadata": {},
   "outputs": [
    {
     "name": "stdout",
     "output_type": "stream",
     "text": [
      "Enter hour: 45\n",
      "Enter rate: 12\n",
      "570.0\n"
     ]
    }
   ],
   "source": [
    "hrs = input(\"Enter hour: \")\n",
    "h = int(hrs)\n",
    "rate = input(\"Enter rate: \")\n",
    "r = float(rate)\n",
    "if h > 40:\n",
    "    hours = h - 40\n",
    "    rate_hour = float(1.5)*r\n",
    "    pay_1 = int(40)*r + float(hours*rate_hour)\n",
    "    print(pay_1)\n",
    "elif h < 40:\n",
    "    pay_2 = h*r\n",
    "    print(pay_2)"
   ]
  },
  {
   "cell_type": "code",
   "execution_count": null,
   "id": "f42d0976",
   "metadata": {},
   "outputs": [],
   "source": []
  }
 ],
 "metadata": {
  "kernelspec": {
   "display_name": "Python 3 (ipykernel)",
   "language": "python",
   "name": "python3"
  },
  "language_info": {
   "codemirror_mode": {
    "name": "ipython",
    "version": 3
   },
   "file_extension": ".py",
   "mimetype": "text/x-python",
   "name": "python",
   "nbconvert_exporter": "python",
   "pygments_lexer": "ipython3",
   "version": "3.10.1"
  }
 },
 "nbformat": 4,
 "nbformat_minor": 5
}
